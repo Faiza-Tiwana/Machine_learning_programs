{
  "nbformat": 4,
  "nbformat_minor": 0,
  "metadata": {
    "colab": {
      "name": "ml_practice_problems.ipynb",
      "provenance": [],
      "collapsed_sections": []
    },
    "kernelspec": {
      "name": "python3",
      "display_name": "Python 3"
    },
    "language_info": {
      "name": "python"
    }
  },
  "cells": [
    {
      "cell_type": "markdown",
      "source": [
        "# Machine Learning - What's in a Column?"
      ],
      "metadata": {
        "id": "iWGmPsIy4ZY2"
      }
    },
    {
      "cell_type": "code",
      "execution_count": 3,
      "metadata": {
        "colab": {
          "base_uri": "https://localhost:8080/"
        },
        "id": "fXOos7HM4LMo",
        "outputId": "39fd6ffe-be1e-4fde-a5ef-15f934f3e6f3"
      },
      "outputs": [
        {
          "output_type": "stream",
          "name": "stdout",
          "text": [
            "https://sololearn.com/uploads/files/one.csv\n",
            "a\n",
            "[1 2]\n"
          ]
        }
      ],
      "source": [
        "\n",
        "import pandas as pd\n",
        "\n",
        "filename = input()\n",
        "column_name = input()\n",
        "fl= pd.read_csv(filename)\n",
        "print (fl[column_name].values) # pandas function for displaying the values of a column from numpy array"
      ]
    },
    {
      "cell_type": "markdown",
      "source": [
        "## Building a Logistic Regression model."
      ],
      "metadata": {
        "id": "sJHHwUlR5HZo"
      }
    },
    {
      "cell_type": "code",
      "source": [
        "n = int(input())\n",
        "X = []\n",
        "for i in range(n):\n",
        "    X.append([float(x) for x in input().split()])\n",
        "y = [int(x) for x in input().split()]\n",
        "datapoint = [float(x) for x in input().split()]\n",
        "\n",
        "import pandas as pd\n",
        "from sklearn.linear_model import LogisticRegression\n",
        "\n",
        "model = LogisticRegression()\n",
        "model.fit(X,y)\n",
        "\n",
        "prevision = model.predict([datapoint])\n",
        "print(int(prevision))"
      ],
      "metadata": {
        "colab": {
          "base_uri": "https://localhost:8080/"
        },
        "id": "b3BTgkaR5N61",
        "outputId": "61490e15-36b6-460d-f405-ced4060cc999"
      },
      "execution_count": 4,
      "outputs": [
        {
          "output_type": "stream",
          "name": "stdout",
          "text": [
            "6\n",
            "1 3\n",
            "3 5\n",
            "5 7\n",
            "3 1\n",
            "5 3\n",
            "7 5\n",
            "1 1 1 0 0 0\n",
            "2 4\n",
            "1\n"
          ]
        }
      ]
    },
    {
      "cell_type": "markdown",
      "source": [
        "## Calculating Evaluation Metrics using the Confusion Matrix."
      ],
      "metadata": {
        "id": "fS7EqQNA5ueM"
      }
    },
    {
      "cell_type": "code",
      "source": [
        "tp, fp, fn, tn = [int(x) for x in input().split()]\n",
        "accuracy = (tp + tn)/ (tp+tn+fn+fp)\n",
        "precision = tp / (tp + fp)\n",
        "recall = tp / (tp + fn)\n",
        "f1 = 2 * precision * recall / (precision + recall)\n",
        "out = [accuracy,precision,recall,f1]\n",
        "for i in out:\n",
        "    print(round(i,4))\n",
        "\n",
        "#print(round(accuracy,4))\n",
        "#print(round(precision,4))\n",
        "#print(round(recall,4))\n",
        "#print(round(f1,4))"
      ],
      "metadata": {
        "colab": {
          "base_uri": "https://localhost:8080/"
        },
        "id": "S2DO8qtR52rI",
        "outputId": "946d4c2b-4d48-455b-8df5-020d816e8bf9"
      },
      "execution_count": 5,
      "outputs": [
        {
          "output_type": "stream",
          "name": "stdout",
          "text": [
            "233 65 109 480\n",
            "0.8038\n",
            "0.7819\n",
            "0.6813\n",
            "0.7281\n"
          ]
        }
      ]
    },
    {
      "cell_type": "markdown",
      "source": [
        "## Split to achieve gain"
      ],
      "metadata": {
        "id": "i_Bh7zbT6A3G"
      }
    },
    {
      "cell_type": "code",
      "source": [
        "S = [int(x) for x in input().split()]\n",
        "A = [int(x) for x in input().split()]\n",
        "B = [int(x) for x in input().split()]"
      ],
      "metadata": {
        "colab": {
          "base_uri": "https://localhost:8080/"
        },
        "id": "gOfuXpP86REk",
        "outputId": "8ac0180d-6427-4a6a-96ac-c22f1d8ddfe7"
      },
      "execution_count": 7,
      "outputs": [
        {
          "name": "stdout",
          "output_type": "stream",
          "text": [
            "1 0 1 0 1 0\n",
            "1 1 1\n",
            "0 0 0\n"
          ]
        }
      ]
    },
    {
      "cell_type": "code",
      "source": [
        "SL = len(S)\n",
        "BL=len(B)\n",
        "AL = len(A)\n",
        "\n",
        "\n",
        "one = S.count(1) # counting number of positive classes\n",
        "zero = S.count(0) # counting number of negative classes\n",
        "giniP = one/(one+zero)\n",
        "giniInit = 2*giniP*(1-giniP)\n",
        "print(one)\n",
        "\n",
        "one = A.count(1)\n",
        "zero = A.count(0)\n",
        "giniP = one/(one+zero)\n",
        "giniLeft = 2*giniP*(1-giniP)\n",
        "\n",
        "\n",
        "one = B.count(1)\n",
        "zero = B.count(0)\n",
        "giniP = one/(one+zero)\n",
        "giniRight= 2*giniP*(1-giniP)\n",
        "\n",
        "IG= giniInit -(giniLeft*(AL/SL))-(giniRight*(BL/SL))\n",
        "print(round(IG,5))"
      ],
      "metadata": {
        "colab": {
          "base_uri": "https://localhost:8080/"
        },
        "id": "_3inGD6G6IF-",
        "outputId": "c868353b-46d7-4b7d-e8ed-3dbe2c80ecff"
      },
      "execution_count": 8,
      "outputs": [
        {
          "output_type": "stream",
          "name": "stdout",
          "text": [
            "3\n",
            "0.5\n"
          ]
        }
      ]
    },
    {
      "cell_type": "markdown",
      "source": [
        "# Random Forest\n"
      ],
      "metadata": {
        "id": "isfJ8M0J6bgZ"
      }
    },
    {
      "cell_type": "code",
      "source": [
        "import numpy as np\n",
        "\n",
        "random_state = int(input())\n",
        "n = int(input())\n",
        "rows = []\n",
        "for i in range(n):\n",
        "    rows.append([float(a) for a in input().split()])\n",
        "\n",
        "X = np.array(rows)\n",
        "y = np.array([int(a) for a in input().split()])\n",
        "\n",
        "from sklearn.ensemble import RandomForestClassifier\n",
        "from sklearn.model_selection import train_test_split\n",
        "rf = RandomForestClassifier(n_estimators=5, random_state = random_state)\n",
        "X_train, X_test, y_train, y_test = train_test_split(X, y, random_state = random_state)\n",
        "rf.fit(X_train,y_train)\n",
        "y_pred = rf.predict(X_test)\n",
        "print(y_pred)"
      ],
      "metadata": {
        "colab": {
          "base_uri": "https://localhost:8080/"
        },
        "id": "4xkNqPzS6iaj",
        "outputId": "8fa5a6a7-0e30-4dcd-eda4-99de99e513d4"
      },
      "execution_count": 9,
      "outputs": [
        {
          "output_type": "stream",
          "name": "stdout",
          "text": [
            "1\n",
            "10\n",
            "-1.53 -2.86\n",
            "-4.42 0.71\n",
            "-1.55 1.04\n",
            "-0.6 -2.01\n",
            "-3.43 1.5\n",
            "1.45 -1.15\n",
            "-1.6 -1.52\n",
            "0.79 0.55\n",
            "1.37 -0.23\n",
            "1.23 1.72\n",
            "0 1 1 0 1 0 0 1 0 1\n",
            "[1 1 0]\n"
          ]
        }
      ]
    },
    {
      "cell_type": "markdown",
      "source": [
        "## Sigmoid Function"
      ],
      "metadata": {
        "id": "ruUFes5e7a-B"
      }
    },
    {
      "cell_type": "code",
      "source": [
        "import math\n",
        "w1, w2, b, x1, x2 = [float(x) for x in input().split()]\n",
        "y = w1*x1 + w2*x2 + b\n",
        "print(w1, w2, b, x1, x2 )\n",
        "print(y)\n",
        "a = (math.exp(-y))\n",
        "print(round(a,4))"
      ],
      "metadata": {
        "colab": {
          "base_uri": "https://localhost:8080/"
        },
        "id": "OAQTLa0Y7bxn",
        "outputId": "3167e49c-fb0e-4e8c-cfc2-3f9c1edfa24e"
      },
      "execution_count": 10,
      "outputs": [
        {
          "output_type": "stream",
          "name": "stdout",
          "text": [
            "0 1 2 1 2\n",
            "0.0 1.0 2.0 1.0 2.0\n",
            "4.0\n",
            "0.0183\n"
          ]
        }
      ]
    }
  ]
}